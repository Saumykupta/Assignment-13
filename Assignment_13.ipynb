{
  "nbformat": 4,
  "nbformat_minor": 0,
  "metadata": {
    "colab": {
      "provenance": []
    },
    "kernelspec": {
      "name": "python3",
      "display_name": "Python 3"
    },
    "language_info": {
      "name": "python"
    }
  },
  "cells": [
    {
      "cell_type": "markdown",
      "source": [
        "**Question1.** What advantages do Excel spreadsheets have over CSV spreadsheets?\n",
        "\n",
        "**Ans:**  While Excel (XLS and XLSX) file formats are better for storing more complex data, CSV files are supported by nearly all data upload interfaces. If you are planning to move your data between platforms, export and import it from one interface to another, you might be better off with the CSV file format."
      ],
      "metadata": {
        "id": "SXoIAEsMcDVD"
      }
    },
    {
      "cell_type": "markdown",
      "source": [
        "2.What do you pass to csv.reader() and csv.writer() to create reader and writer objects?\n",
        "\n",
        "Ans: csv.writer() CSV (Comma Separated Values) format is the most common import and export format for spreadsheets and databases. It is one of the most common methods for exchanging data between applications and popular data format used in Data Science. It is supported by a wide range of applications. A CSV file stores tabular data in which each data field is separated by a delimiter(comma in most cases). To represent a CSV file, it must be saved with the .csv file extension.\n",
        "\n",
        "csv.reader() Python contains a module called csv for the handling of CSV files. The reader class from the module is used for reading data from a CSV file. At first, the CSV file is opened using the open() method in ‘r’ mode(specifies read mode while opening a file) which returns the file object then it is read by using the reader() method of CSV module that returns the reader object that iterates throughout the lines in the specified CSV document.\n",
        "\n"
      ],
      "metadata": {
        "id": "D9r9t3O0cY2I"
      }
    },
    {
      "cell_type": "markdown",
      "source": [
        "3. What modes do File objects for reader and writer objects need to be opened in?\n",
        "\n"
      ],
      "metadata": {
        "id": "Y-I-YrL7dL1p"
      }
    },
    {
      "cell_type": "markdown",
      "source": [
        "**Question4.** What method takes a list argument and writes it to a CSV file?\n",
        "\n",
        "**Ans:** A CSV file is a bounded text format which uses a comma to separate values. The most common method to write data from a list to CSV file is the writerow() method of writer and DictWriter class."
      ],
      "metadata": {
        "id": "RQMIdRTVeZph"
      }
    },
    {
      "cell_type": "markdown",
      "source": [
        "**Question5.** What do the keyword arguments delimiter and line terminator do?\n",
        "\n",
        "**Ans:**  The delimiter is the character that appears between cells on a row. By default, the delimiter for a CSV file is a comma. The line terminator is the character that comes at the end of a row. By default, the line terminator is a newline."
      ],
      "metadata": {
        "id": "5TJRCRi4eiQA"
      }
    },
    {
      "cell_type": "markdown",
      "source": [
        "**Question6.** What function takes a string of JSON data and returns a Python data structure?\n",
        "\n",
        "**Ans:** json.loads()"
      ],
      "metadata": {
        "id": "6xuhNmzBev_N"
      }
    },
    {
      "cell_type": "markdown",
      "source": [
        "**Question7.** What function takes a Python data structure and returns a string of JSON data?\n",
        "\n",
        "**Ans:** json.dumps()"
      ],
      "metadata": {
        "id": "4DqW__E2fHis"
      }
    }
  ]
}